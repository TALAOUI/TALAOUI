{
 "cells": [
  {
   "cell_type": "code",
   "execution_count": 1,
   "id": "1f700522-3358-4d4b-9b70-d0036af4b870",
   "metadata": {},
   "outputs": [
    {
     "name": "stdout",
     "output_type": "stream",
     "text": [
      "Collecting cmake\n",
      "  Downloading cmake-3.21.3-py2.py3-none-manylinux_2_12_x86_64.manylinux2010_x86_64.whl (21.5 MB)\n",
      "\u001b[K     |████████████████████████████████| 21.5 MB 5.7 MB/s eta 0:00:011\n",
      "\u001b[?25hRequirement already satisfied: gym[atari] in /home/taia/anaconda3/lib/python3.8/site-packages (0.21.0)\n",
      "Requirement already satisfied: scipy in /home/taia/anaconda3/lib/python3.8/site-packages (1.6.2)\n",
      "Requirement already satisfied: numpy>=1.18.0 in /home/taia/anaconda3/lib/python3.8/site-packages (from gym[atari]) (1.20.1)\n",
      "Requirement already satisfied: cloudpickle>=1.2.0 in /home/taia/anaconda3/lib/python3.8/site-packages (from gym[atari]) (1.6.0)\n",
      "Collecting ale-py~=0.7.1\n",
      "  Downloading ale_py-0.7.2-cp38-cp38-manylinux_2_17_x86_64.manylinux2014_x86_64.whl (1.6 MB)\n",
      "\u001b[K     |████████████████████████████████| 1.6 MB 6.7 MB/s eta 0:00:01\n",
      "\u001b[?25hCollecting importlib-resources\n",
      "  Downloading importlib_resources-5.2.2-py3-none-any.whl (27 kB)\n",
      "Requirement already satisfied: zipp>=3.1.0 in /home/taia/anaconda3/lib/python3.8/site-packages (from importlib-resources->ale-py~=0.7.1->gym[atari]) (3.4.1)\n",
      "Installing collected packages: importlib-resources, ale-py, cmake\n",
      "Successfully installed ale-py-0.7.2 cmake-3.21.3 importlib-resources-5.2.2\n"
     ]
    }
   ],
   "source": [
    "!pip install cmake 'gym[atari]' scipy"
   ]
  },
  {
   "cell_type": "code",
   "execution_count": 2,
   "id": "94092f21-b5af-4055-b394-5db0efef0b8a",
   "metadata": {},
   "outputs": [
    {
     "name": "stdout",
     "output_type": "stream",
     "text": [
      "+---------+\n",
      "|R: | : :\u001b[34;1mG\u001b[0m|\n",
      "| : | : : |\n",
      "| : : : : |\n",
      "| | : | : |\n",
      "|Y| : |\u001b[35mB\u001b[0m:\u001b[43m \u001b[0m|\n",
      "+---------+\n",
      "\n"
     ]
    }
   ],
   "source": [
    "import gym\n",
    "\n",
    "# =======================================\n",
    "## CREATE ENVIRONMENT\n",
    "# ========================================\n",
    "\n",
    "# We are using the .env on the end of make to avoid training stopping at 200 iterations, \n",
    "# which is the default for the new version of Gym (verify this in gym website...)\n",
    "env = gym.make(\"Taxi-v3\").env   \n",
    "\n",
    "env.render()"
   ]
  },
  {
   "cell_type": "code",
   "execution_count": null,
   "id": "d6f2e461-cd9a-4e20-8ab3-1869eac5d8d7",
   "metadata": {},
   "outputs": [],
   "source": [
    "# SOME INTERESTING COMMANDS"
   ]
  },
  {
   "cell_type": "code",
   "execution_count": null,
   "id": "42e68d05-1c9c-4d84-88c1-320d2f72d2ab",
   "metadata": {},
   "outputs": [],
   "source": [
    "# Resets the environment and returns a random initial state.\n",
    "env.reset\n",
    "\n",
    "# Step the environment by one timestep. Returns\n",
    "env.step(action)\n",
    "\n",
    "# Renders one frame of the environment (helpful in visualizing the environment)\n",
    "env.render"
   ]
  },
  {
   "cell_type": "code",
   "execution_count": null,
   "id": "13d01a4e-fed6-4639-9c6d-282b97815897",
   "metadata": {},
   "outputs": [],
   "source": [
    "# observation: Observations of the environment\n",
    "# reward: If your action was beneficial or not\n",
    "# done: Indicates if we have successfully picked up and dropped off a passenger, also called one episode\n",
    "# info: Additional info such as performance and latency for debugging purposes"
   ]
  },
  {
   "cell_type": "code",
   "execution_count": null,
   "id": "77f6e4d9-3713-4e4e-93ff-92b6735521ac",
   "metadata": {},
   "outputs": [],
   "source": [
    "#===========================\n",
    "##        RULES:\n",
    "#===========================\n",
    "\n",
    "# \"There are 4 locations (labeled by different letters), and our job is to pick up the passenger \n",
    "# at one location and drop him off at another. We receive +20 points for a successful drop-off \n",
    "# and lose 1 point for every time-step it takes. There is also a 10 point penalty for illegal \n",
    "# pick-up and drop-off actions.\""
   ]
  },
  {
   "cell_type": "code",
   "execution_count": 3,
   "id": "16a16d56-1945-482d-b7e6-aa5ac6e511dd",
   "metadata": {},
   "outputs": [
    {
     "name": "stdout",
     "output_type": "stream",
     "text": [
      "+---------+\n",
      "|\u001b[35mR\u001b[0m: | : :G|\n",
      "| : | : : |\n",
      "| : : : : |\n",
      "| | : | : |\n",
      "|\u001b[34;1mY\u001b[0m|\u001b[43m \u001b[0m: |B: |\n",
      "+---------+\n",
      "\n",
      "Action Space Discrete(6)\n",
      "State Space Discrete(500)\n"
     ]
    }
   ],
   "source": [
    "# =======================================\n",
    "## RESET RANDOMLY ENVIRONMENT\n",
    "# ========================================\n",
    "\n",
    "env.reset() # reset environment to a new, random state\n",
    "env.render()\n",
    "\n",
    "print(\"Action Space {}\".format(env.action_space)) # There 6 possible actions\n",
    "print(\"State Space {}\".format(env.observation_space)) # This is explained in the .odt file"
   ]
  },
  {
   "cell_type": "code",
   "execution_count": null,
   "id": "348271f9-ebc5-4774-bbe8-66671c314257",
   "metadata": {},
   "outputs": [],
   "source": [
    "# ========================================\n",
    "## UNDERSTAND VISUAL ENVIRONMENT\n",
    "# ========================================\n",
    "\n",
    "# Taxi is the filled rectangle\n",
    "# Vertical lines are walls\n",
    "# R,G,Y and B are the pick-up and dropoff locations\n",
    "# The blue letter is the passenger pickup location\n",
    "# The purple letter is the destination\n",
    "\n",
    "# ========================================\n",
    "## ACTION  NOTATIONS\n",
    "# ========================================\n",
    "# 0 = south\n",
    "# 1 = north\n",
    "# 2 = east\n",
    "# 3 = west\n",
    "# 4 = pickup\n",
    "# 5 = dropoff\n",
    "\n",
    "# ====================================\n",
    "## STATE NOTATIONS\n",
    "# ====================================\n",
    "# (taxi_row,taxi_column) with taxi_row and taxi_column in {0,1,2,3,4} ==> Current location of the taxi\n",
    "\n",
    "# Passenger locations:\n",
    "#     - 0: R(ed)\n",
    "#     - 1: G(reen)\n",
    "#     - 2: Y(ellow)\n",
    "#     - 3: B(lue)\n",
    "#     - 4: in taxi\n",
    "        \n",
    "# Destinations:\n",
    "#     - 0: R(ed)\n",
    "#     - 1: G(reen)\n",
    "#     - 2: Y(ellow)\n",
    "#     - 3: B(lue)"
   ]
  },
  {
   "cell_type": "code",
   "execution_count": 4,
   "id": "97897f1e-f8d4-45aa-bf09-2701327554e0",
   "metadata": {},
   "outputs": [
    {
     "name": "stdout",
     "output_type": "stream",
     "text": [
      "State: 328\n",
      "+---------+\n",
      "|\u001b[35mR\u001b[0m: | : :G|\n",
      "| : | : : |\n",
      "| : : : : |\n",
      "| |\u001b[43m \u001b[0m: | : |\n",
      "|\u001b[34;1mY\u001b[0m| : |B: |\n",
      "+---------+\n",
      "\n"
     ]
    }
   ],
   "source": [
    "# =======================================\n",
    "## CREATE ENVIRONMENT\n",
    "# ========================================\n",
    "state = env.encode(3, 1, 2, 0) # (taxi row, taxi column, passenger index, destination index)\n",
    "# the encode function provides to a value between 0 and 499 (remember that the state space has 500 dimension)\n",
    "print(\"State:\", state)\n",
    "env.s = state\n",
    "env.render()"
   ]
  },
  {
   "cell_type": "code",
   "execution_count": 5,
   "id": "dad2ca25-5857-49dc-817e-4846a03c6fed",
   "metadata": {},
   "outputs": [
    {
     "data": {
      "text/plain": [
       "{0: [(1.0, 428, -1, False)],\n",
       " 1: [(1.0, 228, -1, False)],\n",
       " 2: [(1.0, 348, -1, False)],\n",
       " 3: [(1.0, 328, -1, False)],\n",
       " 4: [(1.0, 328, -10, False)],\n",
       " 5: [(1.0, 328, -10, False)]}"
      ]
     },
     "execution_count": 5,
     "metadata": {},
     "output_type": "execute_result"
    }
   ],
   "source": [
    "# Reward Table in the form of a dictionary: We can think of it like a matrix that has \n",
    "# the number of states as rows and number of actions as columns,\n",
    "\n",
    "## This dictionary has the structure {action: [(probability, nextstate, reward, done)]}\n",
    "\n",
    "# All the movement actions have a -1 reward and the pickup/dropoff actions have -10 reward \n",
    "# in this particular state. If we are in a state where the taxi has a passenger and is on \n",
    "# top of the right destination, we would see a reward of 20 at the dropoff action (5)\n",
    "\n",
    "env.P[state]"
   ]
  },
  {
   "cell_type": "code",
   "execution_count": null,
   "id": "58539a9f-0626-4a6d-9a52-ea6051cb8597",
   "metadata": {},
   "outputs": [],
   "source": [
    "# EN résumé, j'ai un état courant, et une action courante, ce qui donne lieu à un état suivant.\n",
    "# cet état suivant, si ce n'est pas déjà la destination, c'est -1.\n",
    "# Si le passager est dans le taxi et que le taxi est arrivé à destination, le reward c'est 20\n",
    "# Si l'état contient des valeurs illégales, par exemple, il va récupérer le passager ailleurs\n",
    "# qu'aux stations prévues à cet effet (ça veut dire qu'à l'état précédent, la position passager\n",
    "# était ailleurs que dans le taxi), ou alors que le taxi dépose le passager ailleurs qu'à une station\n",
    "# blabla (càd qu'à l'état l'action déposer se trouver dans le vecteur d'état alors que la position\n",
    "# position du taxi est ailleuyrs qu'à une station)"
   ]
  }
 ],
 "metadata": {
  "kernelspec": {
   "display_name": "Python 3",
   "language": "python",
   "name": "python3"
  },
  "language_info": {
   "codemirror_mode": {
    "name": "ipython",
    "version": 3
   },
   "file_extension": ".py",
   "mimetype": "text/x-python",
   "name": "python",
   "nbconvert_exporter": "python",
   "pygments_lexer": "ipython3",
   "version": "3.8.8"
  }
 },
 "nbformat": 4,
 "nbformat_minor": 5
}
