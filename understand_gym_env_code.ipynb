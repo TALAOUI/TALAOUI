{
 "cells": [
  {
   "cell_type": "markdown",
   "id": "01d15c45-3e10-4a23-a296-ab1cbb9f3396",
   "metadata": {},
   "source": [
    "### <font color='blue'>These are peices of code that show test examples allowing to understand the underlying command lines</font>"
   ]
  },
  {
   "cell_type": "markdown",
   "id": "d9ab9b00-40c3-4b67-9c8f-2d4a278f8686",
   "metadata": {},
   "source": [
    "### <font color='red'>Taxi code </font>"
   ]
  },
  {
   "cell_type": "code",
   "execution_count": 7,
   "id": "ca38ce20-8955-45c3-aedb-ae52be98c1d2",
   "metadata": {},
   "outputs": [],
   "source": [
    "num_states = 10   \n",
    "num_actions = 2\n",
    "P = {\n",
    "        state: {action: [] for action in range(num_actions)}\n",
    "        for state in range(num_states)\n",
    "    }"
   ]
  },
  {
   "cell_type": "code",
   "execution_count": 8,
   "id": "f4c5cfc2-5cd4-42c7-8010-ff2762f7a451",
   "metadata": {},
   "outputs": [
    {
     "name": "stdout",
     "output_type": "stream",
     "text": [
      "{0: {0: [], 1: []}, 1: {0: [], 1: []}, 2: {0: [], 1: []}, 3: {0: [], 1: []}, 4: {0: [], 1: []}, 5: {0: [], 1: []}, 6: {0: [], 1: []}, 7: {0: [], 1: []}, 8: {0: [], 1: []}, 9: {0: [], 1: []}}\n"
     ]
    }
   ],
   "source": [
    "print(P)"
   ]
  },
  {
   "cell_type": "code",
   "execution_count": null,
   "id": "439a4c57-18b8-433c-a859-c4fec7c473a2",
   "metadata": {},
   "outputs": [],
   "source": []
  },
  {
   "cell_type": "code",
   "execution_count": null,
   "id": "b38bfb0c-2ceb-4470-aeb2-00ff0aa0fb51",
   "metadata": {},
   "outputs": [],
   "source": []
  }
 ],
 "metadata": {
  "kernelspec": {
   "display_name": "Python 3",
   "language": "python",
   "name": "python3"
  },
  "language_info": {
   "codemirror_mode": {
    "name": "ipython",
    "version": 3
   },
   "file_extension": ".py",
   "mimetype": "text/x-python",
   "name": "python",
   "nbconvert_exporter": "python",
   "pygments_lexer": "ipython3",
   "version": "3.8.8"
  }
 },
 "nbformat": 4,
 "nbformat_minor": 5
}
